{
 "cells": [
  {
   "cell_type": "code",
   "execution_count": 2,
   "id": "9586b7b3-01b2-4622-808a-c1412191d184",
   "metadata": {},
   "outputs": [
    {
     "data": {
      "text/html": [
       "\n",
       "        <iframe\n",
       "            width=\"100%\"\n",
       "            height=\"650\"\n",
       "            src=\"http://127.0.0.1:8050/\"\n",
       "            frameborder=\"0\"\n",
       "            allowfullscreen\n",
       "            \n",
       "        ></iframe>\n",
       "        "
      ],
      "text/plain": [
       "<IPython.lib.display.IFrame at 0x109732310>"
      ]
     },
     "metadata": {},
     "output_type": "display_data"
    }
   ],
   "source": [
    "from dash import Dash, html\n",
    "\n",
    "app = Dash(__name__)\n",
    "\n",
    "def format_section(title, items):\n",
    "    \"\"\"Render a section title + comma-separated values in a single row.\"\"\"\n",
    "    if not items:\n",
    "        return None\n",
    "    return html.Div([\n",
    "        html.Div(title, style={\"fontWeight\": \"bold\", \"marginBottom\": \"2px\", \"fontSize\": \"11px\"}),\n",
    "        html.Div(\", \".join(items), style={\"fontSize\": \"10px\", \"marginBottom\": \"10px\"})\n",
    "    ])\n",
    "\n",
    "app.layout = html.Div([\n",
    "    format_section(\"Основное\", [\n",
    "        \"Общая площадь: 33 м²\",\n",
    "        \"Жилая: 19 м²\",\n",
    "        \"Кухня: 10 м²\",\n",
    "        \"Потолки: 2.64 м\",\n",
    "        \"Санузел: совмещенный\",\n",
    "        \"Балкон: есть\",\n",
    "        \"Ремонт: евро\",\n",
    "        \"Вид: во двор\"\n",
    "    ]),\n",
    "    format_section(\"Условия\", [\n",
    "        \"ЖКХ: включена\",\n",
    "        \"Залог: 75 000 ₽\",\n",
    "        \"Комиссия: 50%\",\n",
    "        \"Предоплата: 1 мес\",\n",
    "        \"Срок: от года\"\n",
    "    ]),\n",
    "    format_section(\"Оснащение\", [\n",
    "        \"Холодильник\", \"Стиралка\", \"Интернет\", \"Кухонная мебель\", \"Мебель в комнатах\", \"Ванна\"\n",
    "    ]),\n",
    "    format_section(\"Дом\", [\n",
    "        \"Год: 1969\",\n",
    "        \"Серия: Инд. проект\",\n",
    "        \"Мусоропровод: Да\",\n",
    "        \"Лифты: 2\",\n",
    "        \"Тип: Блочный\",\n",
    "        \"Перекрытия: Ж/Б\",\n",
    "        \"Парковка: Наземная\",\n",
    "        \"Подъезды: 2\",\n",
    "        \"Отопление: Центр.\",\n",
    "        \"Аварийность: Нет\"\n",
    "    ]),\n",
    "    html.Div([\n",
    "        html.Div(\"История цен\", style={\"fontWeight\": \"bold\", \"marginBottom\": \"2px\", \"fontSize\": \"11px\"}),\n",
    "        html.Div(\"26 мар 2025: 75 000 ₽/мес. → 25 000 ₽\", style={\"fontSize\": \"10px\"}),\n",
    "        html.Div(\"26 мар 2025: 50 000 ₽/мес.\", style={\"fontSize\": \"10px\", \"marginBottom\": \"10px\"})\n",
    "    ])\n",
    "], style={\n",
    "    \"padding\": \"10px\",\n",
    "    \"backgroundColor\": \"#f9f9f9\",\n",
    "    \"fontFamily\": \"Arial, sans-serif\",\n",
    "    \"fontSize\": \"10px\",\n",
    "    \"borderRadius\": \"4px\",\n",
    "    \"maxWidth\": \"700px\",\n",
    "    \"margin\": \"20px auto\"\n",
    "})\n",
    "\n",
    "if __name__ == '__main__':\n",
    "    app.run_server(debug=True)\n"
   ]
  },
  {
   "cell_type": "code",
   "execution_count": null,
   "id": "815317b1-35d1-46b5-b79e-5c793c983dca",
   "metadata": {},
   "outputs": [],
   "source": []
  }
 ],
 "metadata": {
  "kernelspec": {
   "display_name": "Python 3 (ipykernel)",
   "language": "python",
   "name": "python3"
  },
  "language_info": {
   "codemirror_mode": {
    "name": "ipython",
    "version": 3
   },
   "file_extension": ".py",
   "mimetype": "text/x-python",
   "name": "python",
   "nbconvert_exporter": "python",
   "pygments_lexer": "ipython3",
   "version": "3.11.11"
  }
 },
 "nbformat": 4,
 "nbformat_minor": 5
}
